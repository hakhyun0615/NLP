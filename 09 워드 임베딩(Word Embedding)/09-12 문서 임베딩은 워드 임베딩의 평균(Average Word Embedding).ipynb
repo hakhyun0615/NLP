{
 "cells": [
  {
   "attachments": {},
   "cell_type": "markdown",
   "metadata": {},
   "source": [
    "# 09-12 문서 임베딩 : 워드 임베딩의 평균(Average Word Embedding)"
   ]
  },
  {
   "attachments": {},
   "cell_type": "markdown",
   "metadata": {},
   "source": [
    "특정 문장 내의 단어들의 임베딩 벡터들의 평균이 그 문장의 벡터가 될 수 있음을 설명했습니다. 이번에는 임베딩이 잘 된 상황에서는 단어 벡터들의 평균만으로 텍스트 분류를 수행할 수 있음을 보이고, 워드 임베딩의 중요성을 이해해보겠습니다."
   ]
  },
  {
   "attachments": {},
   "cell_type": "markdown",
   "metadata": {},
   "source": [
    "## 데이터 로드와 전처리"
   ]
  },
  {
   "attachments": {},
   "cell_type": "markdown",
   "metadata": {},
   "source": [
    "영화 사이트 IMDB 영화 리뷰 데이터는 리뷰 텍스트에 리뷰가 긍정인 경우 1을, 부정인 경우 0으로 레이블링 한 데이터로 25,000개의 훈련 데이터와 테스트 데이터 25,000개로 구성된 정수 인코딩까지의 전처리가 진행된 데이터입니다.  \n",
    "데이터를 로드할 때 파라미터로 num_words를 사용하면 이 데이터에서 등장 빈도 순위로 몇 번째에 해당하는 단어까지를 사용할 것인지를 의미합니다."
   ]
  },
  {
   "cell_type": "code",
   "execution_count": 1,
   "metadata": {},
   "outputs": [
    {
     "name": "stdout",
     "output_type": "stream",
     "text": [
      "Downloading data from https://storage.googleapis.com/tensorflow/tf-keras-datasets/imdb.npz\n",
      "17464789/17464789 [==============================] - 4s 0us/step\n",
      "훈련용 리뷰 개수 : 25000\n",
      "테스트용 리뷰 개수 : 25000\n"
     ]
    }
   ],
   "source": [
    "import numpy as np\n",
    "from tensorflow.keras.datasets import imdb\n",
    "from tensorflow.keras.preprocessing.sequence import pad_sequences\n",
    "\n",
    "vocab_size = 20000\n",
    "\n",
    "(X_train, y_train), (X_test, y_test) = imdb.load_data(num_words=vocab_size)\n",
    "print('훈련용 리뷰 개수 :',len(X_train))\n",
    "print('테스트용 리뷰 개수 :',len(X_test))"
   ]
  },
  {
   "cell_type": "code",
   "execution_count": 3,
   "metadata": {},
   "outputs": [
    {
     "name": "stdout",
     "output_type": "stream",
     "text": [
      "훈련 데이터의 첫번째 샘플 : [1, 14, 22, 16, 43, 530, 973, 1622, 1385, 65, 458, 4468, 66, 3941, 4, 173, 36, 256, 5, 25, 100, 43, 838, 112, 50, 670, 2, 9, 35, 480, 284, 5, 150, 4, 172, 112, 167, 2, 336, 385, 39, 4, 172, 4536, 1111, 17, 546, 38, 13, 447, 4, 192, 50, 16, 6, 147, 2025, 19, 14, 22, 4, 1920, 4613, 469, 4, 22, 71, 87, 12, 16, 43, 530, 38, 76, 15, 13, 1247, 4, 22, 17, 515, 17, 12, 16, 626, 18, 19193, 5, 62, 386, 12, 8, 316, 8, 106, 5, 4, 2223, 5244, 16, 480, 66, 3785, 33, 4, 130, 12, 16, 38, 619, 5, 25, 124, 51, 36, 135, 48, 25, 1415, 33, 6, 22, 12, 215, 28, 77, 52, 5, 14, 407, 16, 82, 10311, 8, 4, 107, 117, 5952, 15, 256, 4, 2, 7, 3766, 5, 723, 36, 71, 43, 530, 476, 26, 400, 317, 46, 7, 4, 12118, 1029, 13, 104, 88, 4, 381, 15, 297, 98, 32, 2071, 56, 26, 141, 6, 194, 7486, 18, 4, 226, 22, 21, 134, 476, 26, 480, 5, 144, 30, 5535, 18, 51, 36, 28, 224, 92, 25, 104, 4, 226, 65, 16, 38, 1334, 88, 12, 16, 283, 5, 16, 4472, 113, 103, 32, 15, 16, 5345, 19, 178, 32]\n",
      "훈련 데이터의 첫번째 샘플의 레이블 : 1\n"
     ]
    }
   ],
   "source": [
    "print('훈련 데이터의 첫번째 샘플 :', X_train[0])\n",
    "print('훈련 데이터의 첫번째 샘플의 레이블 :', y_train[0])"
   ]
  },
  {
   "cell_type": "code",
   "execution_count": 4,
   "metadata": {},
   "outputs": [
    {
     "name": "stdout",
     "output_type": "stream",
     "text": [
      "훈련용 리뷰의 평규 길이: 238\n",
      "테스트용 리뷰의 평균 길이: 230\n"
     ]
    }
   ],
   "source": [
    "print('훈련용 리뷰의 평규 길이: {}'.format(np.mean(list(map(len, X_train)), dtype=int)))\n",
    "print('테스트용 리뷰의 평균 길이: {}'.format(np.mean(list(map(len, X_test)), dtype=int)))"
   ]
  },
  {
   "cell_type": "code",
   "execution_count": 5,
   "metadata": {},
   "outputs": [
    {
     "name": "stdout",
     "output_type": "stream",
     "text": [
      "X_train의 크기(shape) : (25000, 400)\n",
      "X_test의 크기(shape) : (25000, 400)\n"
     ]
    }
   ],
   "source": [
    "# 평균보다는 큰 수치인 400으로 패딩\n",
    "max_len = 400\n",
    "\n",
    "X_train = pad_sequences(X_train, maxlen=max_len)\n",
    "X_test = pad_sequences(X_test, maxlen=max_len)\n",
    "print('X_train의 크기(shape) :', X_train.shape)\n",
    "print('X_test의 크기(shape) :', X_test.shape)"
   ]
  },
  {
   "attachments": {},
   "cell_type": "markdown",
   "metadata": {},
   "source": [
    "## 모델 설계하기"
   ]
  },
  {
   "cell_type": "code",
   "execution_count": 6,
   "metadata": {},
   "outputs": [
    {
     "name": "stdout",
     "output_type": "stream",
     "text": [
      "Epoch 1/10\n",
      "625/625 [==============================] - ETA: 0s - loss: 0.6278 - acc: 0.7301\n",
      "Epoch 1: val_acc improved from -inf to 0.80480, saving model to embedding_average_model.h5\n",
      "625/625 [==============================] - 42s 64ms/step - loss: 0.6278 - acc: 0.7301 - val_loss: 0.5215 - val_acc: 0.8048\n",
      "Epoch 2/10\n",
      "625/625 [==============================] - ETA: 0s - loss: 0.4292 - acc: 0.8554\n",
      "Epoch 2: val_acc improved from 0.80480 to 0.86580, saving model to embedding_average_model.h5\n",
      "625/625 [==============================] - 31s 50ms/step - loss: 0.4292 - acc: 0.8554 - val_loss: 0.3787 - val_acc: 0.8658\n",
      "Epoch 3/10\n",
      "624/625 [============================>.] - ETA: 0s - loss: 0.3185 - acc: 0.8922\n",
      "Epoch 3: val_acc improved from 0.86580 to 0.88100, saving model to embedding_average_model.h5\n",
      "625/625 [==============================] - 28s 45ms/step - loss: 0.3184 - acc: 0.8923 - val_loss: 0.3244 - val_acc: 0.8810\n",
      "Epoch 4/10\n",
      "624/625 [============================>.] - ETA: 0s - loss: 0.2614 - acc: 0.9104\n",
      "Epoch 4: val_acc improved from 0.88100 to 0.88500, saving model to embedding_average_model.h5\n",
      "625/625 [==============================] - 29s 46ms/step - loss: 0.2615 - acc: 0.9104 - val_loss: 0.2983 - val_acc: 0.8850\n",
      "Epoch 5/10\n",
      "624/625 [============================>.] - ETA: 0s - loss: 0.2238 - acc: 0.9239\n",
      "Epoch 5: val_acc improved from 0.88500 to 0.88820, saving model to embedding_average_model.h5\n",
      "625/625 [==============================] - 27s 44ms/step - loss: 0.2240 - acc: 0.9238 - val_loss: 0.2830 - val_acc: 0.8882\n",
      "Epoch 6/10\n",
      "625/625 [==============================] - ETA: 0s - loss: 0.1957 - acc: 0.9339\n",
      "Epoch 6: val_acc improved from 0.88820 to 0.89340, saving model to embedding_average_model.h5\n",
      "625/625 [==============================] - 30s 48ms/step - loss: 0.1957 - acc: 0.9339 - val_loss: 0.2753 - val_acc: 0.8934\n",
      "Epoch 7/10\n",
      "625/625 [==============================] - ETA: 0s - loss: 0.1718 - acc: 0.9444\n",
      "Epoch 7: val_acc did not improve from 0.89340\n",
      "625/625 [==============================] - 31s 49ms/step - loss: 0.1718 - acc: 0.9444 - val_loss: 0.2737 - val_acc: 0.8924\n",
      "Epoch 8/10\n",
      "625/625 [==============================] - ETA: 0s - loss: 0.1522 - acc: 0.9503\n",
      "Epoch 8: val_acc improved from 0.89340 to 0.89460, saving model to embedding_average_model.h5\n",
      "625/625 [==============================] - 36s 58ms/step - loss: 0.1522 - acc: 0.9503 - val_loss: 0.2707 - val_acc: 0.8946\n",
      "Epoch 9/10\n",
      "624/625 [============================>.] - ETA: 0s - loss: 0.1348 - acc: 0.9578\n",
      "Epoch 9: val_acc did not improve from 0.89460\n",
      "625/625 [==============================] - 32s 52ms/step - loss: 0.1348 - acc: 0.9578 - val_loss: 0.2755 - val_acc: 0.8916\n",
      "Epoch 10/10\n",
      "625/625 [==============================] - ETA: 0s - loss: 0.1198 - acc: 0.9622\n",
      "Epoch 10: val_acc improved from 0.89460 to 0.89720, saving model to embedding_average_model.h5\n",
      "625/625 [==============================] - 31s 50ms/step - loss: 0.1198 - acc: 0.9622 - val_loss: 0.2769 - val_acc: 0.8972\n"
     ]
    },
    {
     "data": {
      "text/plain": [
       "<keras.callbacks.History at 0x1c41ea88a90>"
      ]
     },
     "execution_count": 6,
     "metadata": {},
     "output_type": "execute_result"
    }
   ],
   "source": [
    "from tensorflow.keras.models import Sequential, load_model\n",
    "from tensorflow.keras.layers import Dense, Embedding, GlobalAveragePooling1D\n",
    "from tensorflow.keras.callbacks import EarlyStopping, ModelCheckpoint\n",
    "\n",
    "embedding_dim = 64\n",
    "\n",
    "model = Sequential()\n",
    "model.add(Embedding(vocab_size, embedding_dim))\n",
    "\n",
    "model.add(GlobalAveragePooling1D()) # 해당 문장의 모든 단어 벡터들의 평균을 구한다.\n",
    "model.add(Dense(1, activation='sigmoid'))\n",
    "\n",
    "es = EarlyStopping(monitor='val_loss', mode='min', verbose=1, patience=4)\n",
    "mc = ModelCheckpoint('embedding_average_model.h5', monitor='val_acc', mode='max', verbose=1, save_best_only=True)\n",
    "\n",
    "model.compile(loss='binary_crossentropy', optimizer='adam', metrics=['acc'])\n",
    "model.fit(X_train, y_train, batch_size=32, epochs=10, callbacks=[es, mc], validation_split=0.2)"
   ]
  },
  {
   "cell_type": "code",
   "execution_count": 7,
   "metadata": {},
   "outputs": [
    {
     "name": "stdout",
     "output_type": "stream",
     "text": [
      "782/782 [==============================] - 5s 6ms/step - loss: 0.2910 - acc: 0.8874\n",
      "\n",
      " 테스트 정확도: 0.8874\n"
     ]
    }
   ],
   "source": [
    "loaded_model = load_model('embedding_average_model.h5')\n",
    "print(\"\\n 테스트 정확도: %.4f\" % (loaded_model.evaluate(X_test, y_test)[1]))"
   ]
  }
 ],
 "metadata": {
  "kernelspec": {
   "display_name": "base",
   "language": "python",
   "name": "python3"
  },
  "language_info": {
   "codemirror_mode": {
    "name": "ipython",
    "version": 3
   },
   "file_extension": ".py",
   "mimetype": "text/x-python",
   "name": "python",
   "nbconvert_exporter": "python",
   "pygments_lexer": "ipython3",
   "version": "3.9.16"
  },
  "orig_nbformat": 4
 },
 "nbformat": 4,
 "nbformat_minor": 2
}
