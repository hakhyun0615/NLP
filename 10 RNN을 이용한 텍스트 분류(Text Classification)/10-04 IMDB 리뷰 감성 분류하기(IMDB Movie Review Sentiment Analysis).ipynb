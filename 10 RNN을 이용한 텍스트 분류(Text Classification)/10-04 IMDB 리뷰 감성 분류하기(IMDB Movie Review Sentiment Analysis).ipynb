{
 "cells": [
  {
   "attachments": {},
   "cell_type": "markdown",
   "metadata": {},
   "source": [
    "# 10-04 IMDB 리뷰 감성 분류하기(IMDB Movie Review Sentiment Analysis)"
   ]
  },
  {
   "attachments": {},
   "cell_type": "markdown",
   "metadata": {},
   "source": [
    "감성 분류를 연습하기 위해 자주 사용하는 영어 데이터로 영화 사이트 IMDB의 리뷰 데이터가 있습니다. 이 데이터는 리뷰에 대한 텍스트와 해당 리뷰가 긍정인 경우 1을 부정인 경우 0으로 표시한 레이블로 구성된 데이터입니다."
   ]
  },
  {
   "attachments": {},
   "cell_type": "markdown",
   "metadata": {},
   "source": [
    "## IMDB 리뷰 데이터에 대한 이해"
   ]
  },
  {
   "cell_type": "code",
   "execution_count": 1,
   "metadata": {},
   "outputs": [
    {
     "name": "stdout",
     "output_type": "stream",
     "text": [
      "훈련용 리뷰 개수 : 25000\n",
      "테스트용 리뷰 개수 : 25000\n",
      "카테고리 : 2\n"
     ]
    }
   ],
   "source": [
    "import numpy as np\n",
    "import matplotlib.pyplot as plt\n",
    "from tensorflow.keras.datasets import imdb\n",
    "\n",
    "# 훈련 데이터와 테스트 데이터를 50:50 비율로 구분해서 제공\n",
    "# 데이터는 토큰화와 정수 인코딩이라는 텍스트 전처리가 끝난 상태\n",
    "(X_train, y_train), (X_test, y_test) = imdb.load_data()\n",
    "\n",
    "print('훈련용 리뷰 개수 : {}'.format(len(X_train)))\n",
    "print('테스트용 리뷰 개수 : {}'.format(len(X_test)))\n",
    "num_classes = len(set(y_train))\n",
    "print('카테고리 : {}'.format(num_classes))"
   ]
  },
  {
   "cell_type": "code",
   "execution_count": 2,
   "metadata": {},
   "outputs": [
    {
     "name": "stdout",
     "output_type": "stream",
     "text": [
      "첫번째 훈련용 리뷰 : [1, 14, 22, 16, 43, 530, 973, 1622, 1385, 65, 458, 4468, 66, 3941, 4, 173, 36, 256, 5, 25, 100, 43, 838, 112, 50, 670, 22665, 9, 35, 480, 284, 5, 150, 4, 172, 112, 167, 21631, 336, 385, 39, 4, 172, 4536, 1111, 17, 546, 38, 13, 447, 4, 192, 50, 16, 6, 147, 2025, 19, 14, 22, 4, 1920, 4613, 469, 4, 22, 71, 87, 12, 16, 43, 530, 38, 76, 15, 13, 1247, 4, 22, 17, 515, 17, 12, 16, 626, 18, 19193, 5, 62, 386, 12, 8, 316, 8, 106, 5, 4, 2223, 5244, 16, 480, 66, 3785, 33, 4, 130, 12, 16, 38, 619, 5, 25, 124, 51, 36, 135, 48, 25, 1415, 33, 6, 22, 12, 215, 28, 77, 52, 5, 14, 407, 16, 82, 10311, 8, 4, 107, 117, 5952, 15, 256, 4, 31050, 7, 3766, 5, 723, 36, 71, 43, 530, 476, 26, 400, 317, 46, 7, 4, 12118, 1029, 13, 104, 88, 4, 381, 15, 297, 98, 32, 2071, 56, 26, 141, 6, 194, 7486, 18, 4, 226, 22, 21, 134, 476, 26, 480, 5, 144, 30, 5535, 18, 51, 36, 28, 224, 92, 25, 104, 4, 226, 65, 16, 38, 1334, 88, 12, 16, 283, 5, 16, 4472, 113, 103, 32, 15, 16, 5345, 19, 178, 32]\n",
      "첫번째 훈련용 리뷰의 레이블 : 1\n"
     ]
    }
   ],
   "source": [
    "print('첫번째 훈련용 리뷰 :',X_train[0])\n",
    "print('첫번째 훈련용 리뷰의 레이블 :',y_train[0])"
   ]
  },
  {
   "cell_type": "code",
   "execution_count": 4,
   "metadata": {},
   "outputs": [
    {
     "name": "stdout",
     "output_type": "stream",
     "text": [
      "리뷰의 최대 길이 : 2494\n",
      "리뷰의 평균 길이 : 238.71364\n"
     ]
    },
    {
     "data": {
      "image/png": "[encoded data removed]",
      "text/plain": [
       "<Figure size 640x480 with 2 Axes>"
      ]
     },
     "metadata": {},
     "output_type": "display_data"
    }
   ],
   "source": [
    "reviews_length = [len(review) for review in X_train]\n",
    "\n",
    "print('리뷰의 최대 길이 : {}'.format(np.max(reviews_length)))\n",
    "print('리뷰의 평균 길이 : {}'.format(np.mean(reviews_length)))\n",
    "\n",
    "plt.subplot(1,2,1)\n",
    "plt.boxplot(reviews_length)\n",
    "plt.subplot(1,2,2)\n",
    "plt.hist(reviews_length, bins=50)\n",
    "plt.show()"
   ]
  },
  {
   "cell_type": "code",
   "execution_count": 5,
   "metadata": {},
   "outputs": [
    {
     "name": "stdout",
     "output_type": "stream",
     "text": [
      "각 레이블에 대한 빈도수:\n",
      "[[    0     1]\n",
      " [12500 12500]]\n"
     ]
    }
   ],
   "source": [
    "unique_elements, counts_elements = np.unique(y_train, return_counts=True)\n",
    "print(\"각 레이블에 대한 빈도수:\")\n",
    "print(np.asarray((unique_elements, counts_elements)))"
   ]
  },
  {
   "attachments": {},
   "cell_type": "markdown",
   "metadata": {},
   "source": [
    "주의할 점은 imdb.get_word_index()에 저장된 값에 +3을 해야 실제 맵핑되는 정수입니다. 이것은 IMDB 리뷰 데이터셋에서 정한 규칙입니다. IMDB 리뷰 데이터셋에서는 0, 1, 2, 3은 특별 토큰으로 취급하고 있습니다. 그래서 정수 4부터가 실제 IMDB 리뷰 데이터셋에서 빈도수가 가장 높은 실제 영단어입니다."
   ]
  },
  {
   "cell_type": "code",
   "execution_count": 6,
   "metadata": {},
   "outputs": [
    {
     "name": "stdout",
     "output_type": "stream",
     "text": [
      "Downloading data from https://storage.googleapis.com/tensorflow/tf-keras-datasets/imdb_word_index.json\n",
      "1641221/1641221 [==============================] - 1s 1us/step\n"
     ]
    }
   ],
   "source": [
    "word_to_index = imdb.get_word_index()\n",
    "index_to_word = {}\n",
    "for key, value in word_to_index.items():\n",
    "    index_to_word[value+3] = key"
   ]
  },
  {
   "cell_type": "code",
   "execution_count": 7,
   "metadata": {},
   "outputs": [
    {
     "name": "stdout",
     "output_type": "stream",
     "text": [
      "빈도수 상위 1등 단어 : the\n"
     ]
    }
   ],
   "source": [
    "print('빈도수 상위 1등 단어 : {}'.format(index_to_word[4]))"
   ]
  },
  {
   "cell_type": "code",
   "execution_count": 8,
   "metadata": {},
   "outputs": [
    {
     "name": "stdout",
     "output_type": "stream",
     "text": [
      "<sos> this film was just brilliant casting location scenery story direction everyone's really suited the part they played and you could just imagine being there robert redford's is an amazing actor and now the same being director norman's father came from the same scottish island as myself so i loved the fact there was a real connection with this film the witty remarks throughout the film were great it was just brilliant so much that i bought the film as soon as it was released for retail and would recommend it to everyone to watch and the fly fishing was amazing really cried at the end it was so sad and you know what they say if you cry at a film it must have been good and this definitely was also congratulations to the two little boy's that played the part's of norman and paul they were just brilliant children are often left out of the praising list i think because the stars that play them all grown up are such a big profile for the whole film but these children are amazing and should be praised for what they have done don't you think the whole story was so lovely because it was true and was someone's life after all that was shared with us all\n"
     ]
    }
   ],
   "source": [
    "for index, token in enumerate((\"<pad>\", \"<sos>\", \"<unk>\")):\n",
    "  index_to_word[index] = token\n",
    "\n",
    "#  X_train[0]의 각 단어가 정수로 바뀌기 전에 어떤 단어들이었는지 확인\n",
    "print(' '.join([index_to_word[index] for index in X_train[0]]))"
   ]
  },
  {
   "attachments": {},
   "cell_type": "markdown",
   "metadata": {},
   "source": [
    "## GRU로 IMDB 리뷰 감성 분류하기"
   ]
  },
  {
   "cell_type": "code",
   "execution_count": 9,
   "metadata": {},
   "outputs": [],
   "source": [
    "import re\n",
    "from tensorflow.keras.datasets import imdb\n",
    "from tensorflow.keras.preprocessing.sequence import pad_sequences\n",
    "from tensorflow.keras.models import Sequential\n",
    "from tensorflow.keras.layers import Dense, GRU, Embedding\n",
    "from tensorflow.keras.callbacks import EarlyStopping, ModelCheckpoint\n",
    "from tensorflow.keras.models import load_model\n",
    "\n",
    "vocab_size = 10000\n",
    "max_len = 500\n",
    "\n",
    "(X_train, y_train), (X_test, y_test) = imdb.load_data(num_words=vocab_size)\n",
    "\n",
    "X_train = pad_sequences(X_train, maxlen=max_len)\n",
    "X_test = pad_sequences(X_test, maxlen=max_len)"
   ]
  },
  {
   "cell_type": "code",
   "execution_count": 10,
   "metadata": {},
   "outputs": [
    {
     "name": "stdout",
     "output_type": "stream",
     "text": [
      "Epoch 1/15\n",
      "313/313 [==============================] - ETA: 0s - loss: 0.5483 - acc: 0.7150\n",
      "Epoch 1: val_acc improved from -inf to 0.76240, saving model to GRU_model.h5\n",
      "313/313 [==============================] - 406s 1s/step - loss: 0.5483 - acc: 0.7150 - val_loss: 0.4767 - val_acc: 0.7624\n",
      "Epoch 2/15\n",
      "313/313 [==============================] - ETA: 0s - loss: 0.3493 - acc: 0.8530\n",
      "Epoch 2: val_acc improved from 0.76240 to 0.85260, saving model to GRU_model.h5\n",
      "313/313 [==============================] - 464s 1s/step - loss: 0.3493 - acc: 0.8530 - val_loss: 0.3608 - val_acc: 0.8526\n",
      "Epoch 3/15\n",
      "313/313 [==============================] - ETA: 0s - loss: 0.2834 - acc: 0.8878\n",
      "Epoch 3: val_acc did not improve from 0.85260\n",
      "313/313 [==============================] - 440s 1s/step - loss: 0.2834 - acc: 0.8878 - val_loss: 0.4010 - val_acc: 0.8322\n",
      "Epoch 4/15\n",
      "313/313 [==============================] - ETA: 0s - loss: 0.2368 - acc: 0.9061\n",
      "Epoch 4: val_acc did not improve from 0.85260\n",
      "313/313 [==============================] - 479s 2s/step - loss: 0.2368 - acc: 0.9061 - val_loss: 0.3483 - val_acc: 0.8446\n",
      "Epoch 5/15\n",
      "313/313 [==============================] - ETA: 0s - loss: 0.1986 - acc: 0.9259\n",
      "Epoch 5: val_acc improved from 0.85260 to 0.85480, saving model to GRU_model.h5\n",
      "313/313 [==============================] - 407s 1s/step - loss: 0.1986 - acc: 0.9259 - val_loss: 0.3405 - val_acc: 0.8548\n",
      "Epoch 6/15\n",
      "313/313 [==============================] - ETA: 0s - loss: 0.1683 - acc: 0.9390\n",
      "Epoch 6: val_acc improved from 0.85480 to 0.88860, saving model to GRU_model.h5\n",
      "313/313 [==============================] - 398s 1s/step - loss: 0.1683 - acc: 0.9390 - val_loss: 0.3359 - val_acc: 0.8886\n",
      "Epoch 7/15\n",
      "313/313 [==============================] - ETA: 0s - loss: 0.1453 - acc: 0.9478\n",
      "Epoch 7: val_acc did not improve from 0.88860\n",
      "313/313 [==============================] - 380s 1s/step - loss: 0.1453 - acc: 0.9478 - val_loss: 0.3244 - val_acc: 0.8858\n",
      "Epoch 8/15\n",
      "313/313 [==============================] - ETA: 0s - loss: 0.1210 - acc: 0.9580\n",
      "Epoch 8: val_acc improved from 0.88860 to 0.88940, saving model to GRU_model.h5\n",
      "313/313 [==============================] - 383s 1s/step - loss: 0.1210 - acc: 0.9580 - val_loss: 0.3447 - val_acc: 0.8894\n",
      "Epoch 9/15\n",
      "313/313 [==============================] - ETA: 0s - loss: 0.1031 - acc: 0.9637\n",
      "Epoch 9: val_acc did not improve from 0.88940\n",
      "313/313 [==============================] - 412s 1s/step - loss: 0.1031 - acc: 0.9637 - val_loss: 0.3780 - val_acc: 0.8804\n",
      "Epoch 10/15\n",
      "313/313 [==============================] - ETA: 0s - loss: 0.0810 - acc: 0.9725\n",
      "Epoch 10: val_acc did not improve from 0.88940\n",
      "313/313 [==============================] - 484s 2s/step - loss: 0.0810 - acc: 0.9725 - val_loss: 0.5048 - val_acc: 0.8384\n",
      "Epoch 11/15\n",
      "313/313 [==============================] - ETA: 0s - loss: 0.0643 - acc: 0.9791\n",
      "Epoch 11: val_acc did not improve from 0.88940\n",
      "313/313 [==============================] - 446s 1s/step - loss: 0.0643 - acc: 0.9791 - val_loss: 0.4057 - val_acc: 0.8816\n",
      "Epoch 11: early stopping\n"
     ]
    }
   ],
   "source": [
    "embedding_dim = 100\n",
    "hidden_units = 128\n",
    "\n",
    "model = Sequential()\n",
    "model.add(Embedding(vocab_size, embedding_dim))\n",
    "model.add(GRU(hidden_units))\n",
    "model.add(Dense(1, activation='sigmoid'))\n",
    "\n",
    "es = EarlyStopping(monitor='val_loss', mode='min', verbose=1, patience=4)\n",
    "mc = ModelCheckpoint('GRU_model.h5', monitor='val_acc', mode='max', verbose=1, save_best_only=True)\n",
    "\n",
    "model.compile(optimizer='rmsprop', loss='binary_crossentropy', metrics=['acc'])\n",
    "history = model.fit(X_train, y_train, epochs=15, callbacks=[es, mc], batch_size=64, validation_split=0.2)"
   ]
  },
  {
   "cell_type": "code",
   "execution_count": 11,
   "metadata": {},
   "outputs": [
    {
     "name": "stdout",
     "output_type": "stream",
     "text": [
      "782/782 [==============================] - 110s 139ms/step - loss: 0.3749 - acc: 0.8820\n",
      "\n",
      " 테스트 정확도: 0.8820\n"
     ]
    }
   ],
   "source": [
    "loaded_model = load_model('GRU_model.h5')\n",
    "print(\"\\n 테스트 정확도: %.4f\" % (loaded_model.evaluate(X_test, y_test)[1]))"
   ]
  },
  {
   "cell_type": "code",
   "execution_count": 12,
   "metadata": {},
   "outputs": [],
   "source": [
    "#  입력된 문장에 대해서 기본적인 전처리와 정수 인코딩, 패딩을 한 후에 모델의 입력으로 사용하여 예측값을 리턴하는 함수\n",
    "def sentiment_predict(new_sentence):\n",
    "  # 알파벳과 숫자를 제외하고 모두 제거 및 알파벳 소문자화\n",
    "  new_sentence = re.sub('[^0-9a-zA-Z ]', '', new_sentence).lower()\n",
    "  encoded = []\n",
    "\n",
    "  # 띄어쓰기 단위 토큰화 후 정수 인코딩\n",
    "  for word in new_sentence.split():\n",
    "    try :\n",
    "      # 단어 집합의 크기를 10,000으로 제한.\n",
    "      if word_to_index[word] <= 10000:\n",
    "        encoded.append(word_to_index[word]+3)\n",
    "      else:\n",
    "      # 10,000 이상의 숫자는 <unk> 토큰으로 변환.\n",
    "        encoded.append(2)\n",
    "    # 단어 집합에 없는 단어는 <unk> 토큰으로 변환.\n",
    "    except KeyError:\n",
    "      encoded.append(2)\n",
    "\n",
    "  pad_sequence = pad_sequences([encoded], maxlen=max_len)\n",
    "  score = float(loaded_model.predict(pad_sequence)) # 예측\n",
    "\n",
    "  if(score > 0.5):\n",
    "    print(\"{:.2f}% 확률로 긍정 리뷰입니다.\".format(score * 100))\n",
    "  else:\n",
    "    print(\"{:.2f}% 확률로 부정 리뷰입니다.\".format((1 - score) * 100))"
   ]
  },
  {
   "cell_type": "code",
   "execution_count": 13,
   "metadata": {},
   "outputs": [
    {
     "name": "stdout",
     "output_type": "stream",
     "text": [
      "1/1 [==============================] - 1s 1s/step\n",
      "99.11% 확률로 부정 리뷰입니다.\n"
     ]
    }
   ],
   "source": [
    "test_input = \"This movie was just way too overrated. The fighting was not professional and in slow motion. I was expecting more from a 200 million budget movie. The little sister of T.Challa was just trying too hard to be funny. The story was really dumb as well. Don't watch this movie if you are going because others say its great unless you are a Black Panther fan or Marvels fan.\"\n",
    "\n",
    "sentiment_predict(test_input)"
   ]
  }
 ],
 "metadata": {
  "kernelspec": {
   "display_name": "base",
   "language": "python",
   "name": "python3"
  },
  "language_info": {
   "codemirror_mode": {
    "name": "ipython",
    "version": 3
   },
   "file_extension": ".py",
   "mimetype": "text/x-python",
   "name": "python",
   "nbconvert_exporter": "python",
   "pygments_lexer": "ipython3",
   "version": "3.9.16"
  },
  "orig_nbformat": 4,
  "vscode": {
   "interpreter": {
    "hash": "a52fe0732f3203105bd2a5391fae9ba2ffc9b942c993ad37025ba64cbdbf2f56"
   }
  }
 },
 "nbformat": 4,
 "nbformat_minor": 2
}
