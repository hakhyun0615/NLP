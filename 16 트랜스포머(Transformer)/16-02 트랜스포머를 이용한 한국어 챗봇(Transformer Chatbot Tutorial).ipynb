{
 "cells": [
  {
   "attachments": {},
   "cell_type": "markdown",
   "metadata": {},
   "source": [
    "# 16-02 트랜스포머를 이용한 한국어 챗봇(Transformer Chatbot Tutorial)"
   ]
  }
 ],
 "metadata": {
  "language_info": {
   "name": "python"
  },
  "orig_nbformat": 4
 },
 "nbformat": 4,
 "nbformat_minor": 2
}
